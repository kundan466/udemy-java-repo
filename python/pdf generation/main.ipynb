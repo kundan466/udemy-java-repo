{
 "cells": [
  {
   "cell_type": "code",
   "execution_count": 2,
   "id": "069ac01f",
   "metadata": {},
   "outputs": [
    {
     "name": "stderr",
     "output_type": "stream",
     "text": [
      "C:\\Users\\Reddy Kundan\\AppData\\Local\\Temp\\ipykernel_19404\\1607391142.py:15: DeprecationWarning: The parameter \"txt\" has been renamed to \"text\" in 2.7.6\n",
      "  pdf.cell(w=0, h=12, txt=row[\"Topic\"], align=\"L\",\n",
      "C:\\Users\\Reddy Kundan\\AppData\\Local\\Temp\\ipykernel_19404\\1607391142.py:15: DeprecationWarning: The parameter \"ln\" is deprecated since v2.5.2. Instead of ln=1 use new_x=XPos.LMARGIN, new_y=YPos.NEXT.\n",
      "  pdf.cell(w=0, h=12, txt=row[\"Topic\"], align=\"L\",\n",
      "C:\\Users\\Reddy Kundan\\AppData\\Local\\Temp\\ipykernel_19404\\1607391142.py:24: DeprecationWarning: The parameter \"txt\" has been renamed to \"text\" in 2.7.6\n",
      "  pdf.cell(w=0, h=10, txt=row[\"Topic\"], align=\"R\")\n",
      "C:\\Users\\Reddy Kundan\\AppData\\Local\\Temp\\ipykernel_19404\\1607391142.py:34: DeprecationWarning: The parameter \"txt\" has been renamed to \"text\" in 2.7.6\n",
      "  pdf.cell(w=0, h=10, txt=row[\"Topic\"], align=\"R\")\n"
     ]
    }
   ],
   "source": [
    "from fpdf import FPDF\n",
    "import pandas as pd\n",
    "\n",
    "pdf = FPDF(orientation=\"P\", unit=\"mm\", format=\"A4\")\n",
    "pdf.set_auto_page_break(auto=False, margin=0)\n",
    "\n",
    "df = pd.read_csv(\"topics.csv\")\n",
    "\n",
    "for index, row in df.iterrows():\n",
    "    pdf.add_page()\n",
    "\n",
    "    # Set the header\n",
    "    pdf.set_font(family=\"Times\", style=\"B\", size=24)\n",
    "    pdf.set_text_color(100, 100, 100)\n",
    "    pdf.cell(w=0, h=12, txt=row[\"Topic\"], align=\"L\",\n",
    "         ln=1)\n",
    "    for y in range(20, 298, 10):\n",
    "        pdf.line(10, y, 200, y)\n",
    "\n",
    "    # Set the footer\n",
    "    pdf.ln(265)\n",
    "    pdf.set_font(family=\"Times\", style=\"I\", size=8)\n",
    "    pdf.set_text_color(180, 180, 180)\n",
    "    pdf.cell(w=0, h=10, txt=row[\"Topic\"], align=\"R\")\n",
    "\n",
    "\n",
    "    for i in range(row[\"Pages\"] - 1):\n",
    "        pdf.add_page()\n",
    "\n",
    "        # Set the footer\n",
    "        pdf.ln(277)\n",
    "        pdf.set_font(family=\"Times\", style=\"I\", size=8)\n",
    "        pdf.set_text_color(180, 180, 180)\n",
    "        pdf.cell(w=0, h=10, txt=row[\"Topic\"], align=\"R\")\n",
    "\n",
    "        for y in range(20, 298, 10):\n",
    "            pdf.line(10, y, 200, y)\n",
    "\n",
    "pdf.output(\"output.pdf\")"
   ]
  },
  {
   "cell_type": "code",
   "execution_count": null,
   "id": "7a63557f",
   "metadata": {},
   "outputs": [],
   "source": []
  }
 ],
 "metadata": {
  "kernelspec": {
   "display_name": "Python 3 (ipykernel)",
   "language": "python",
   "name": "python3"
  },
  "language_info": {
   "codemirror_mode": {
    "name": "ipython",
    "version": 3
   },
   "file_extension": ".py",
   "mimetype": "text/x-python",
   "name": "python",
   "nbconvert_exporter": "python",
   "pygments_lexer": "ipython3",
   "version": "3.9.13"
  }
 },
 "nbformat": 4,
 "nbformat_minor": 5
}

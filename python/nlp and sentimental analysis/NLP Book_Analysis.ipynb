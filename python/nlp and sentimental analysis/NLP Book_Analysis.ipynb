{
 "cells": [
  {
   "cell_type": "markdown",
   "id": "1b7a8599-d5e7-40e9-85e9-c5028ef3a7df",
   "metadata": {},
   "source": [
    "# Loading the book"
   ]
  },
  {
   "cell_type": "code",
   "execution_count": 20,
   "id": "1c38c905",
   "metadata": {},
   "outputs": [],
   "source": [
    "import re"
   ]
  },
  {
   "cell_type": "code",
   "execution_count": 5,
   "id": "ffa3f138-f47e-4358-893b-7ee74cdaa471",
   "metadata": {},
   "outputs": [],
   "source": [
    "with open(\"C:/Users/Reddy Kundan/Desktop/python_projects/text_analysis/miracle_in_the_andes.txt\",\"r\",encoding=\"utf-8\") as file:\n",
    "    book=file.read()"
   ]
  },
  {
   "cell_type": "markdown",
   "id": "0aac9425-cabf-4ee5-ae08-7bd81617095e",
   "metadata": {},
   "source": [
    "# The most used words (non-articles)"
   ]
  },
  {
   "cell_type": "code",
   "execution_count": 6,
   "id": "5a624cb0-a646-43a7-800a-93521c87a7ab",
   "metadata": {},
   "outputs": [
    {
     "data": {
      "text/plain": [
       "['chapter', 'before', 'it', 'was', 'friday']"
      ]
     },
     "execution_count": 6,
     "metadata": {},
     "output_type": "execute_result"
    }
   ],
   "source": [
    "import re\n",
    "pattern = re.compile(\"[a-zA-Z]+\")\n",
    "findings = re.findall(pattern, book.lower())\n",
    "findings[:5]"
   ]
  },
  {
   "cell_type": "code",
   "execution_count": 7,
   "id": "a7faf74c-81ea-4272-af51-33aecc492085",
   "metadata": {},
   "outputs": [],
   "source": [
    "d = {}\n",
    "for word in findings:\n",
    "    if word in d.keys():\n",
    "        d[word] = d[word] + 1\n",
    "    else:\n",
    "        d[word] = 1"
   ]
  },
  {
   "cell_type": "code",
   "execution_count": 8,
   "id": "b3016e56-4621-4437-baa5-c065a5769dcf",
   "metadata": {},
   "outputs": [
    {
     "data": {
      "text/plain": [
       "[(5346, 'the'), (2795, 'and'), (2729, 'i'), (2400, 'to'), (2060, 'of')]"
      ]
     },
     "execution_count": 8,
     "metadata": {},
     "output_type": "execute_result"
    }
   ],
   "source": [
    "d_list = [(value, key) for (key, value) in d.items()]\n",
    "d_list = sorted(d_list, reverse=True)\n",
    "d_list[:5]"
   ]
  },
  {
   "cell_type": "code",
   "execution_count": 9,
   "id": "25adfaee-10d4-4468-9533-861d5ee736c8",
   "metadata": {},
   "outputs": [],
   "source": [
    "import nltk\n",
    "\n",
    "from nltk.corpus import stopwords\n",
    "english_stopwords = stopwords.words(\"english\")"
   ]
  },
  {
   "cell_type": "code",
   "execution_count": 10,
   "id": "56692788-828c-48d4-bf62-ee535c9eb5e9",
   "metadata": {},
   "outputs": [],
   "source": [
    "filtered_words = []\n",
    "for count, word in d_list:\n",
    "    if word not in english_stopwords:\n",
    "        filtered_words.append((word, count))"
   ]
  },
  {
   "cell_type": "code",
   "execution_count": 11,
   "id": "814a773e-ba77-48bf-b3dc-d439b8ac5cba",
   "metadata": {},
   "outputs": [
    {
     "data": {
      "text/plain": [
       "[('would', 575),\n",
       " ('us', 519),\n",
       " ('said', 292),\n",
       " ('roberto', 284),\n",
       " ('could', 252),\n",
       " ('one', 249),\n",
       " ('snow', 227),\n",
       " ('mountain', 183),\n",
       " ('time', 182),\n",
       " ('like', 165)]"
      ]
     },
     "execution_count": 11,
     "metadata": {},
     "output_type": "execute_result"
    }
   ],
   "source": [
    "filtered_words[:10]"
   ]
  },
  {
   "cell_type": "markdown",
   "id": "04815e5e-60ae-4b6d-b284-c114f0253519",
   "metadata": {},
   "source": [
    "# Sentiment Analysis: What is the most positivie and the most negative chapter?"
   ]
  },
  {
   "cell_type": "markdown",
   "id": "68b8462d-1825-4684-a0e5-0bff756ccce0",
   "metadata": {},
   "source": [
    "### An example"
   ]
  },
  {
   "cell_type": "code",
   "execution_count": 12,
   "id": "a6bdf848-8c19-4005-a115-d9d3be4e03f0",
   "metadata": {},
   "outputs": [],
   "source": [
    "from nltk.sentiment import SentimentIntensityAnalyzer"
   ]
  },
  {
   "cell_type": "code",
   "execution_count": 13,
   "id": "11f8691f-5562-46b9-8465-306fd7a476f4",
   "metadata": {},
   "outputs": [],
   "source": [
    "analyzer = SentimentIntensityAnalyzer()"
   ]
  },
  {
   "cell_type": "code",
   "execution_count": 14,
   "id": "a3cc0651-1442-44f7-8f20-4bef883da42a",
   "metadata": {},
   "outputs": [],
   "source": [
    "scores = analyzer.polarity_scores(\"Hey, look how bad the trees are. I hate them. I really hate them.\")"
   ]
  },
  {
   "cell_type": "code",
   "execution_count": 15,
   "id": "8f34f4c9-cdc4-4319-8702-8642655e0fc7",
   "metadata": {},
   "outputs": [
    {
     "name": "stdout",
     "output_type": "stream",
     "text": [
      "It is a negative text\n"
     ]
    }
   ],
   "source": [
    "if scores[\"pos\"] > scores[\"neg\"]:\n",
    "    print(\"It is a positive text\")\n",
    "else:\n",
    "    print(\"It is a negative text\")"
   ]
  },
  {
   "cell_type": "code",
   "execution_count": 16,
   "id": "6260c4fc-6ee5-452d-8046-d6931263a6ff",
   "metadata": {},
   "outputs": [
    {
     "data": {
      "text/plain": [
       "{'neg': 0.116, 'neu': 0.76, 'pos': 0.125, 'compound': 1.0}"
      ]
     },
     "execution_count": 16,
     "metadata": {},
     "output_type": "execute_result"
    }
   ],
   "source": [
    "analyzer.polarity_scores(book)"
   ]
  },
  {
   "cell_type": "markdown",
   "id": "1954e2e0-7ed2-43c7-8e77-b475a30b2582",
   "metadata": {},
   "source": [
    "### Chapters sentiment analysis"
   ]
  },
  {
   "cell_type": "code",
   "execution_count": 17,
   "id": "563daae4-d99b-4cca-b77d-3efde73fbf09",
   "metadata": {},
   "outputs": [],
   "source": [
    "\n",
    "pattern = re.compile(\"Chapter [0-9]+\")\n",
    "chapters = re.split(pattern, book)"
   ]
  },
  {
   "cell_type": "code",
   "execution_count": 18,
   "id": "22987bc6-fc42-493a-a076-6a67dba20bc1",
   "metadata": {},
   "outputs": [],
   "source": [
    "chapters = chapters[1:]"
   ]
  },
  {
   "cell_type": "code",
   "execution_count": 19,
   "id": "c93ce475-a486-46d4-b116-f2f19d16e3e5",
   "metadata": {},
   "outputs": [
    {
     "name": "stdout",
     "output_type": "stream",
     "text": [
      "1 {'neg': 0.061, 'neu': 0.779, 'pos': 0.16, 'compound': 1.0}\n",
      "2 {'neg': 0.12, 'neu': 0.726, 'pos': 0.154, 'compound': 0.9991}\n",
      "3 {'neg': 0.145, 'neu': 0.751, 'pos': 0.105, 'compound': -0.9999}\n",
      "4 {'neg': 0.141, 'neu': 0.721, 'pos': 0.138, 'compound': -0.9963}\n",
      "5 {'neg': 0.118, 'neu': 0.742, 'pos': 0.141, 'compound': 0.9997}\n",
      "6 {'neg': 0.124, 'neu': 0.761, 'pos': 0.115, 'compound': -0.9979}\n",
      "7 {'neg': 0.136, 'neu': 0.761, 'pos': 0.103, 'compound': -0.9999}\n",
      "8 {'neg': 0.12, 'neu': 0.786, 'pos': 0.094, 'compound': -0.9998}\n",
      "9 {'neg': 0.097, 'neu': 0.824, 'pos': 0.079, 'compound': -0.9996}\n",
      "10 {'neg': 0.086, 'neu': 0.733, 'pos': 0.181, 'compound': 1.0}\n"
     ]
    }
   ],
   "source": [
    "for nr, chapter in enumerate(chapters):\n",
    "    scores = analyzer.polarity_scores(chapter)\n",
    "    print(nr + 1, scores)"
   ]
  },
  {
   "cell_type": "code",
   "execution_count": null,
   "id": "2485b08b",
   "metadata": {},
   "outputs": [],
   "source": []
  },
  {
   "cell_type": "code",
   "execution_count": null,
   "id": "ba22c01b",
   "metadata": {},
   "outputs": [],
   "source": []
  }
 ],
 "metadata": {
  "kernelspec": {
   "display_name": "Python 3 (ipykernel)",
   "language": "python",
   "name": "python3"
  },
  "language_info": {
   "codemirror_mode": {
    "name": "ipython",
    "version": 3
   },
   "file_extension": ".py",
   "mimetype": "text/x-python",
   "name": "python",
   "nbconvert_exporter": "python",
   "pygments_lexer": "ipython3",
   "version": "3.9.13"
  }
 },
 "nbformat": 4,
 "nbformat_minor": 5
}
